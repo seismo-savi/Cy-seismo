{
 "cells": [
  {
   "cell_type": "markdown",
   "id": "cf6e12e4-54f0-468d-8b84-0dd855df4557",
   "metadata": {},
   "source": [
    "# Notebook 2: Download waveform data for event"
   ]
  },
  {
   "cell_type": "code",
   "execution_count": null,
   "id": "e2472ccf-0c99-4b04-9d76-24ac546a5a43",
   "metadata": {},
   "outputs": [],
   "source": []
  },
  {
   "cell_type": "code",
   "execution_count": null,
   "id": "be66beba-a9ba-4dcc-95cc-14d81e297580",
   "metadata": {},
   "outputs": [],
   "source": []
  }
 ],
 "metadata": {
  "kernelspec": {
   "display_name": "seismo",
   "language": "python",
   "name": "seismo"
  },
  "language_info": {
   "codemirror_mode": {
    "name": "ipython",
    "version": 3
   },
   "file_extension": ".py",
   "mimetype": "text/x-python",
   "name": "python",
   "nbconvert_exporter": "python",
   "pygments_lexer": "ipython3",
   "version": "3.9.15"
  }
 },
 "nbformat": 4,
 "nbformat_minor": 5
}
